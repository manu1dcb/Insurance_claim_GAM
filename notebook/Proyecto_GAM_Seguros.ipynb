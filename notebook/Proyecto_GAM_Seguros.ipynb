{
  "nbformat": 4,
  "nbformat_minor": 0,
  "metadata": {
    "colab": {
      "provenance": []
    },
    "kernelspec": {
      "name": "python3",
      "display_name": "Python 3"
    },
    "language_info": {
      "name": "python"
    }
  },
  "cells": [
    {
      "cell_type": "markdown",
      "source": [
        "## **Aprendizaje Automático - Modelos Aditivos Generalizados (GAM)**\n",
        "### Máster en Data Science para Finanzas\n",
        "Contacto:\n",
        "\n",
        "- Gaspar Cólogan Barajas\n",
        "\n",
        "  Correo: gaspar.cologan@cunef.edu\n",
        "- Jose Manuel de Castro Beristaín\n",
        "\n",
        "  Correo: josemanuel.decastro@cunef.edu\n"
      ],
      "metadata": {
        "id": "D-Xdqnlm8uSJ"
      }
    },
    {
      "cell_type": "markdown",
      "source": [
        "### **1. ¿Qué son los modelos GAM?**\n",
        "Para poder explicar correctamente un Modelo Aditivo Generalizado, conocido como Generalized Additive Model (GAM), es necesario definir primero qué es un modelo lineal.\n",
        "\n",
        "Un modelo lineal es un enfoque estadístico que asume una relación lineal entre las variables predictoras y la variable respuesta. Se busca ajustar una línea recta que represente la mejor aproximación a la relación subyacente. Los coeficientes de esta línea indican la magnitud y dirección de la influencia de cada variable predictora sobre la variable de respuesta. Los modelos lineales son ampliamente utilizados debido a su simplicidad y facilidad de interpretación, pero pueden no capturar relaciones no lineales en los datos.\n",
        "\n",
        "Un Modelo Aditivo Generalizado representa una extensión de los modelos lineales tradicionales.\n",
        "A diferencia de los modelos lineales, los GAM poseen una característica distintiva: la capacidad de capturar relaciones no lineales entre las variables predictoras y la variable de respuesta.\n",
        "\n",
        "En lugar de limitarse a la estructura de una simple suma ponderada de variables predictoras, los GAM introducen flexibilidad al asumir que la relación puede modelarse como la suma de funciones arbitrarias de cada característica. Esta flexibilidad es esencial para abordar patrones complejos y no lineales presentes en los datos.\n",
        "\n",
        "En el contexto de los GAM, los coeficientes beta, es decir, los parámetros que se utilizan en los modelos de regresión lineal para describir la relación entre las variables predictoras y la variable de respuesta, son reemplazados por funciones flexibles. Estas funciones, conocidas como splines, desempeñan un papel crucial al permitir la modelización de relaciones no lineales para cada característica. Los splines son funciones matemáticas complejas que suavizan la relación entre las variables, lo que resulta en un modelo altamente flexible que conserva parte de la interpretabilidad de una regresión lineal."
      ],
      "metadata": {
        "id": "RCe0ZHACLnJm"
      }
    },
    {
      "cell_type": "markdown",
      "source": [
        "### **2. Ventajas y limitaciones de los GAM:**\n",
        "La aplicación de los Modelos Aditivos Generalizados tiene algunas ventajas y desventajas. A continuación comentaremos brevemente cada una de ellas.\n",
        "\n",
        "**Ventajas de los GAM**:\n",
        "\n",
        "- Flexibilidad:\n",
        "  \n",
        "  Los Modelos Aditivos Generalizados ofrecen flexibilidad a la hora de modelarr relaciones complejas entre predictores y variables de respuesta, adaptándose a una amplia gama de patrones de datos.\n",
        "\n",
        "- Interpretabilidad:\n",
        "\n",
        "  Proporcionan información valiosa sobre la dirección y la importancia de los efectos de los predictores, lo que permite a los investigadores comprender cómo contribuyen los predictores a la variable de respuesta.\n",
        "\n",
        "- Manejo de múltiples tipos de predictores:\n",
        "\n",
        "  Los GAM pueden manejar una mezcla de predictores continuos, categóricos y ordinales dentro de un marco unificado.\n",
        "\n",
        "- Selección automática de variables:\n",
        "\n",
        "  La incorporación de técnicas de regularización en los GAM ayuda a evitar el sobreajuste y mejorar la generalización.\n",
        "\n",
        "- Visualización:\n",
        "\n",
        "  Las funciones suaves de los GAM pueden representarse visualmente, lo que ayuda a interpretar el modelo.\n",
        "\n",
        "**Desventajas de los GAM:**\n",
        "\n",
        "- Complejidad en la interpretación:\n",
        "\n",
        "  La interpretación de los resultados de los Modelos Aditivos Generalizados puede suponer un reto debido a la complejidad de las funciones suaves, lo que requiere experiencia en modelización estadística.\n",
        "  \n",
        "- Subjetividad en la selección de modelos:\n",
        "\n",
        "  La elección de grados de libertad y suavidad puede depender del juicio del investigador, introduciendo sesgos o incertidumbre.\n",
        "  \n",
        "- Sensibilidad a Parámetros de Suavizado:\n",
        "  \n",
        "  La elección de parámetros de suavizado puede afectar los resultados del modelo, requiriendo ajustes cuidadosos.\n",
        "\n",
        "- Tratamiento Limitado de Datos Faltantes:\n",
        "\n",
        "  Los GAM manejan los datos faltantes a través del análisis de casos completos, lo que puede resultar en tamaños de muestra reducidos y sesgos potenciales.\n",
        "\n",
        "- Exigencias Computacionales:\n",
        "\n",
        "  Pueden ser intensivos computacionalmente, especialmente para grandes conjuntos de datos o modelos complejos, demandando tiempo y recursos considerables.\n",
        "\n",
        "- Limitación a Regresión y Clasificación:\n",
        "\n",
        "  Son más adecuados para tareas de regresión y clasificación y pueden no ser idóneos para tareas más complejas, como el reconocimiento de imágenes."
      ],
      "metadata": {
        "id": "I48C2sDbYcb4"
      }
    },
    {
      "cell_type": "markdown",
      "source": [
        "### **3. ¿Cuáles son sus usos?**\n",
        "Los Modelos Aditivos Generalizados son versátiles y pueden utilizarse para diversos fines en la modelización estadística. Estas son algunas aplicaciones comunes de los GAM:\n",
        "Análisis de regresión:\n",
        "\n",
        "1. Análisis de regresión:\n",
        "\n",
        "  La regresión lineal tradicional asume una relación lineal entre los predictores y la variable de respuesta. Los GAM amplían este supuesto al permitir relaciones no lineales, lo que los hace adecuados para situaciones en las que la relación es compleja y no puede representarse adecuadamente mediante una línea recta.\n",
        "\n",
        "2. Análisis de series temporales:\n",
        "\n",
        "  Los datos de series temporales suelen mostrar patrones no lineales. Los Modelos Aditivos Generalizados pueden captar tendencias no lineales, estacionalidad y otras dinámicas temporales de los datos. Esto los hace valiosos para predecir valores futuros basándose en patrones históricos.\n",
        "\n",
        "3. Suavizado y ajuste de curvas:\n",
        "\n",
        "  Los GAM destacan en el suavizado de datos ruidosos y en el ajuste de curvas para captar las tendencias subyacentes. Esto es especialmente útil cuando se trata de datos que pueden tener fluctuaciones o irregularidades, y el objetivo es discernir los patrones subyacentes.\n",
        "\n",
        "4. Clasificación:\n",
        "\n",
        "  Aunque la regresión logística se utiliza habitualmente para la clasificación binaria, los GAM también pueden adaptarse a tareas de clasificación. Pueden modelar relaciones no lineales entre los predictores y la probabilidad de pertenecer a una clase específica, lo que proporciona flexibilidad a la hora de capturar límites de decisión complejos.\n",
        "\n",
        "5. Análisis espacial:\n",
        "\n",
        "  En el análisis espacial, los GAM pueden aplicarse para modelizar relaciones entre variables espaciales. Esto resulta útil cuando se estudian fenómenos que presentan dependencias espaciales o cuando se investiga cómo contribuyen los factores espaciales a la variación de la variable de respuesta.\n",
        "\n",
        "6. Modelización ecológica y medioambiental:\n",
        "\n",
        "  Los GAM se emplean en estudios ecológicos y medioambientales para modelizar las relaciones, a menudo intrincadas, entre los factores medioambientales y las respuestas ecológicas. Las no linealidades y las interacciones entre variables pueden ser cruciales para comprender los sistemas ecológicos, y los GAM son muy adecuados para captar estas complejidades.\n",
        "\n",
        "7. Epidemiología:\n",
        "\n",
        "  En epidemiología, los GAM pueden utilizarse para modelizar la relación entre las variables de exposición (por ejemplo, factores ambientales, elecciones de estilo de vida) y los resultados sanitarios. Permiten la detección de efectos no lineales e interacciones, proporcionando una representación más realista de las relaciones en los datos epidemiológicos.\n",
        "\n",
        "8. Selección de variables:\n",
        "\n",
        "  Los GAM realizan de forma natural la selección de variables incorporando sólo las variables relevantes a través de las funciones de suavizado. Esto puede ser ventajoso en escenarios con datos de alta dimensionalidad, ayudando a centrarse en los predictores más influyentes.\n",
        "\n",
        "9. Predicción y pronóstico:\n",
        "\n",
        "  Los GAM pueden utilizarse para realizar predicciones basadas en datos históricos, especialmente cuando existen patrones no lineales en los datos. Tanto si se trata de predecir valores futuros en una serie temporal como de pronosticar resultados en otros ámbitos, los GAM ofrecen flexibilidad para captar relaciones complejas.\n",
        "\n",
        "En resumen, la flexibilidad de los GAM los hace aplicables en una amplia gama de campos en los que las relaciones entre variables no son lineales o en los que se necesita una modelización más compleja para captar los matices de los datos. La elección de utilizar un GAM debe guiarse por las características específicas del conjunto de datos y los objetivos del análisis."
      ],
      "metadata": {
        "id": "sxHP7HESMLuc"
      }
    },
    {
      "cell_type": "markdown",
      "source": [
        "### **4. Ejemplos:**"
      ],
      "metadata": {
        "id": "aHBhAuf4MPuw"
      }
    },
    {
      "cell_type": "code",
      "source": [
        "# pip install pygam"
      ],
      "metadata": {
        "id": "f1e2recy9Px5"
      },
      "execution_count": 1,
      "outputs": []
    },
    {
      "cell_type": "code",
      "source": [
        "# pip install --upgrade numpy"
      ],
      "metadata": {
        "id": "vjA10mIVAFGN"
      },
      "execution_count": 2,
      "outputs": []
    },
    {
      "cell_type": "markdown",
      "source": [
        "Vamos a desarrollar un modelos que nos permita anticipar qué clientes **nos van a realizar una reclamación como empresa de seguros**. Para ello creamos ficticiamente una base de datos de 10.000 instancias:\n",
        "- **Edad**: distribución normal con 40 años de media y 10 de desviación típica.\n",
        "- **Historial de reclamaciones**: cada cliente, en el tiempo que le dura la póliza, reclama de media unas dos veces.\n",
        "- **Tipo de póliza**: atribuímos dos tipos: una poliza estándar (0), y una póliza premium (1). La estándar la elige un 30% de los clientes y la premium un 70%.\n",
        "- **Duración de la póliza**: utilizamos también una distribución normal de media 2 y desviazión típica uno.\n",
        "- **Indemnizaciones**: Creamos una distribución normal con media de 1.000 euros y desviación típica de 500."
      ],
      "metadata": {
        "id": "rxLHNVM7Lgod"
      }
    },
    {
      "cell_type": "code",
      "source": [
        "import numpy as np\n",
        "from pygam import LogisticGAM\n",
        "from sklearn.model_selection import train_test_split\n",
        "from sklearn.metrics import accuracy_score\n",
        "\n",
        "# Crear datos simulados\n",
        "np.random.seed(42)\n",
        "\n",
        "# Variables predictoras\n",
        "age = np.random.normal(40, 10, 10000)\n",
        "claims_history = np.random.poisson(2, 10000)\n",
        "policy_type = np.random.choice([0, 1], size=10000, p=[0.3, 0.7])\n",
        "policy_duration = np.random.normal(2, 1, 10000)\n",
        "coverage_amount = np.random.normal(1000, 500, 10000)"
      ],
      "metadata": {
        "id": "VktQLQtEIBk2"
      },
      "execution_count": 3,
      "outputs": []
    },
    {
      "cell_type": "markdown",
      "source": [
        "A partir de la función de probabilidades, atribuímos 1 a aquellos clientes que estimamos que sí reclamarán al seguro y 0 a los que no realizarán la reclamación. El umbral se sitúa en el 0.5."
      ],
      "metadata": {
        "id": "-VC6rMjVNhTp"
      }
    },
    {
      "cell_type": "code",
      "source": [
        "# Variable de respuesta\n",
        "claim_prob = 1 / (1 + np.exp(-(0.1 * age + 0.2 * claims_history + 0.5 * policy_type - 0.3 * policy_duration + 0.1 * coverage_amount + np.random.normal(0, 0.1, 10000))))\n",
        "\n",
        "claims = np.random.binomial(1, claim_prob)"
      ],
      "metadata": {
        "id": "yh_YzzixNpu3"
      },
      "execution_count": 4,
      "outputs": []
    },
    {
      "cell_type": "markdown",
      "source": [
        "Dividimos en train y test, siendo X el conjunto de edad, historial de reclamaciones, tipo de póliza, duración de la póliza e indemnizaciones. Como y, tenemos la variable claims, cuyo resultado viene determinado por la probabilidad y se le otorga un valor entero de 1 o 0 según la probabilidad que haya de fraude, con un umbral de 0,5.\n",
        "\n",
        "La parte test tendrá un tamaño de 0,2."
      ],
      "metadata": {
        "id": "TroiotrVNzzE"
      }
    },
    {
      "cell_type": "code",
      "source": [
        "# Dividir los datos en conjuntos de entrenamiento y prueba\n",
        "X_train, X_test, y_train, y_test = train_test_split(\n",
        "    np.column_stack((age, claims_history, policy_type, policy_duration, coverage_amount)),\n",
        "    claims,\n",
        "    test_size=0.2,\n",
        "    random_state=42\n",
        ")"
      ],
      "metadata": {
        "id": "QKjY5lqfN41B"
      },
      "execution_count": 5,
      "outputs": []
    },
    {
      "cell_type": "markdown",
      "source": [
        "Construimos el modelo, al que llamamos gam_model.\n",
        "Nos exige, para ejecutar el modelo, que le incluyamos el parámetro lambda, que controla la regularización del modelo. Hemos considerado correcto poner 0.1 porque si lambda fuera más bajo, tendría una mayor sensibilidad y llegar a sobreajustarse. Sin embargo, si fuera más alto, podría llegar a omitir detalles relevantes e incluso patrones a la hora de entrenar."
      ],
      "metadata": {
        "id": "OQJYZw6aPVTi"
      }
    },
    {
      "cell_type": "code",
      "source": [
        "# Construir y ajustar un modelo GAM\n",
        "# gam_model = LogisticGAM().fit(X_train, y_train)\n",
        "gam_model = LogisticGAM(lam=0.1).fit(X_train, y_train)\n"
      ],
      "metadata": {
        "colab": {
          "base_uri": "https://localhost:8080/"
        },
        "id": "vIUewe7lN6g9",
        "outputId": "37249c2e-ab0a-409f-974b-df19390fbb4d"
      },
      "execution_count": 6,
      "outputs": [
        {
          "output_type": "stream",
          "name": "stderr",
          "text": [
            "/usr/local/lib/python3.10/dist-packages/pygam/links.py:151: RuntimeWarning: divide by zero encountered in divide\n",
            "  return dist.levels / (mu * (dist.levels - mu))\n",
            "/usr/local/lib/python3.10/dist-packages/pygam/pygam.py:629: RuntimeWarning: invalid value encountered in multiply\n",
            "  self.link.gradient(mu, self.distribution) ** 2\n"
          ]
        }
      ]
    },
    {
      "cell_type": "markdown",
      "source": [
        "Hacemos la predicción del modelo"
      ],
      "metadata": {
        "id": "wVsKOE-xQRkI"
      }
    },
    {
      "cell_type": "code",
      "source": [
        "y_pred = gam_model.predict(X_test)"
      ],
      "metadata": {
        "id": "n63D1KX-N8El"
      },
      "execution_count": 7,
      "outputs": []
    },
    {
      "cell_type": "markdown",
      "source": [
        "Evaluamos el modelo con parte de las métricas aprendidas para el proyecto anterior"
      ],
      "metadata": {
        "id": "xfCqd0wSQh4b"
      }
    },
    {
      "cell_type": "code",
      "source": [
        "from sklearn.metrics import f1_score, precision_score, recall_score\n",
        "\n",
        "accuracy = accuracy_score(y_test, y_pred)\n",
        "print(f'Accuracy: {accuracy}')\n",
        "precision = precision_score(y_test, y_pred)\n",
        "recall = recall_score(y_test, y_pred)\n",
        "f1 = f1_score(y_test, y_pred)\n",
        "\n",
        "print(\"Precision:\", precision)\n",
        "print(\"Recall:\", recall)\n",
        "print(\"F1 Score:\", f1)"
      ],
      "metadata": {
        "colab": {
          "base_uri": "https://localhost:8080/"
        },
        "id": "0jhypwwJN_FK",
        "outputId": "dd95766d-848e-4a94-c050-e46a47937a35"
      },
      "execution_count": 8,
      "outputs": [
        {
          "output_type": "stream",
          "name": "stdout",
          "text": [
            "Accuracy: 0.998\n",
            "Precision: 0.9979654120040692\n",
            "Recall: 1.0\n",
            "F1 Score: 0.9989816700610997\n"
          ]
        }
      ]
    },
    {
      "cell_type": "code",
      "source": [
        "y_pred"
      ],
      "metadata": {
        "id": "cMgkuhxRN_n6",
        "colab": {
          "base_uri": "https://localhost:8080/"
        },
        "outputId": "4d886478-5f9b-4762-ee76-33baa4dcb583"
      },
      "execution_count": 9,
      "outputs": [
        {
          "output_type": "execute_result",
          "data": {
            "text/plain": [
              "array([ True,  True,  True, ...,  True, False,  True])"
            ]
          },
          "metadata": {},
          "execution_count": 9
        }
      ]
    },
    {
      "cell_type": "code",
      "source": [],
      "metadata": {
        "id": "bEFhzNYPjNeD"
      },
      "execution_count": 9,
      "outputs": []
    }
  ]
}